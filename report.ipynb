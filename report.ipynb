{
 "cells": [
  {
   "cell_type": "markdown",
   "source": [
    "# IBM Watson Marketing Data Analysis & Prediction\n",
    "@Pankaj Joshi"
   ],
   "metadata": {
    "collapsed": false
   }
  },
  {
   "cell_type": "code",
   "execution_count": 1,
   "metadata": {
    "collapsed": true,
    "ExecuteTime": {
     "end_time": "2023-06-20T13:44:38.780189Z",
     "start_time": "2023-06-20T13:44:38.759866Z"
    }
   },
   "outputs": [
    {
     "name": "stdout",
     "output_type": "stream",
     "text": [
      "['.DS_Store', 'WA_Fn-UseC_-Marketing-Customer-Value-Analysis.csv']\n"
     ]
    }
   ],
   "source": [
    "import numpy as np\n",
    "import pandas as pd\n",
    "\n",
    "import matplotlib.pyplot as plt\n",
    "import seaborn as sns\n",
    "%matplotlib inline\n",
    "sns.set()\n",
    "from subprocess import check_output\n",
    "import warnings\n",
    "warnings.filterwarnings('ignore')\n",
    "\n",
    "df = pd.read_csv('./data/WA_Fn-UseC_-Marketing-Customer-Value-Analysis.csv')\n",
    "\n",
    "def annot_plot(ax, w, h):\n",
    "    ax.spines['top'].set_visible(False)\n",
    "    ax.spines['right'].set_visible(False)\n",
    "    for p in ax.patches:\n",
    "        ax.annotate(f\"{p.get_height() * 100 / df.shape[0]:.2f}%\", (p.get_x() + p.get_width() /2., p.get_height()),\n",
    "                   ha='center', va='center', fontsize=11, color='gray', rotation=0, xytext=(0, 10),\n",
    "                   textcoords='offset points')\n",
    "\n",
    "def annot_plot_num(ax, w, h):\n",
    "    ax.spines['top'].set_visible(False)\n",
    "    ax.spines['right'].set_visible(False)\n",
    "    for p in ax.patches:\n",
    "        ax.annotate('{0:.1f}'.format(p.get_height()), (p.get_x()+w, p.get_height()+h))\n",
    "\n",
    "import os\n",
    "print(os.listdir(\"./data\"))"
   ]
  },
  {
   "cell_type": "markdown",
   "source": [
    "## 1. Data Loading"
   ],
   "metadata": {
    "collapsed": false
   }
  },
  {
   "cell_type": "code",
   "execution_count": 2,
   "outputs": [
    {
     "data": {
      "text/plain": "  Customer       State  Customer Lifetime Value Response  Coverage Education  \\\n0  BU79786  Washington              2763.519279       No     Basic  Bachelor   \n1  QZ44356     Arizona              6979.535903       No  Extended  Bachelor   \n2  AI49188      Nevada             12887.431650       No   Premium  Bachelor   \n3  WW63253  California              7645.861827       No     Basic  Bachelor   \n4  HB64268  Washington              2813.692575       No     Basic  Bachelor   \n\n  Effective To Date EmploymentStatus Gender  Income  ...  \\\n0           2/24/11         Employed      F   56274  ...   \n1           1/31/11       Unemployed      F       0  ...   \n2           2/19/11         Employed      F   48767  ...   \n3           1/20/11       Unemployed      M       0  ...   \n4            2/3/11         Employed      M   43836  ...   \n\n  Months Since Policy Inception Number of Open Complaints  Number of Policies  \\\n0                             5                         0                   1   \n1                            42                         0                   8   \n2                            38                         0                   2   \n3                            65                         0                   7   \n4                            44                         0                   1   \n\n      Policy Type        Policy  Renew Offer Type  Sales Channel  \\\n0  Corporate Auto  Corporate L3            Offer1          Agent   \n1   Personal Auto   Personal L3            Offer3          Agent   \n2   Personal Auto   Personal L3            Offer1          Agent   \n3  Corporate Auto  Corporate L2            Offer1    Call Center   \n4   Personal Auto   Personal L1            Offer1          Agent   \n\n  Total Claim Amount  Vehicle Class Vehicle Size  \n0         384.811147   Two-Door Car      Medsize  \n1        1131.464935  Four-Door Car      Medsize  \n2         566.472247   Two-Door Car      Medsize  \n3         529.881344            SUV      Medsize  \n4         138.130879  Four-Door Car      Medsize  \n\n[5 rows x 24 columns]",
      "text/html": "<div>\n<style scoped>\n    .dataframe tbody tr th:only-of-type {\n        vertical-align: middle;\n    }\n\n    .dataframe tbody tr th {\n        vertical-align: top;\n    }\n\n    .dataframe thead th {\n        text-align: right;\n    }\n</style>\n<table border=\"1\" class=\"dataframe\">\n  <thead>\n    <tr style=\"text-align: right;\">\n      <th></th>\n      <th>Customer</th>\n      <th>State</th>\n      <th>Customer Lifetime Value</th>\n      <th>Response</th>\n      <th>Coverage</th>\n      <th>Education</th>\n      <th>Effective To Date</th>\n      <th>EmploymentStatus</th>\n      <th>Gender</th>\n      <th>Income</th>\n      <th>...</th>\n      <th>Months Since Policy Inception</th>\n      <th>Number of Open Complaints</th>\n      <th>Number of Policies</th>\n      <th>Policy Type</th>\n      <th>Policy</th>\n      <th>Renew Offer Type</th>\n      <th>Sales Channel</th>\n      <th>Total Claim Amount</th>\n      <th>Vehicle Class</th>\n      <th>Vehicle Size</th>\n    </tr>\n  </thead>\n  <tbody>\n    <tr>\n      <th>0</th>\n      <td>BU79786</td>\n      <td>Washington</td>\n      <td>2763.519279</td>\n      <td>No</td>\n      <td>Basic</td>\n      <td>Bachelor</td>\n      <td>2/24/11</td>\n      <td>Employed</td>\n      <td>F</td>\n      <td>56274</td>\n      <td>...</td>\n      <td>5</td>\n      <td>0</td>\n      <td>1</td>\n      <td>Corporate Auto</td>\n      <td>Corporate L3</td>\n      <td>Offer1</td>\n      <td>Agent</td>\n      <td>384.811147</td>\n      <td>Two-Door Car</td>\n      <td>Medsize</td>\n    </tr>\n    <tr>\n      <th>1</th>\n      <td>QZ44356</td>\n      <td>Arizona</td>\n      <td>6979.535903</td>\n      <td>No</td>\n      <td>Extended</td>\n      <td>Bachelor</td>\n      <td>1/31/11</td>\n      <td>Unemployed</td>\n      <td>F</td>\n      <td>0</td>\n      <td>...</td>\n      <td>42</td>\n      <td>0</td>\n      <td>8</td>\n      <td>Personal Auto</td>\n      <td>Personal L3</td>\n      <td>Offer3</td>\n      <td>Agent</td>\n      <td>1131.464935</td>\n      <td>Four-Door Car</td>\n      <td>Medsize</td>\n    </tr>\n    <tr>\n      <th>2</th>\n      <td>AI49188</td>\n      <td>Nevada</td>\n      <td>12887.431650</td>\n      <td>No</td>\n      <td>Premium</td>\n      <td>Bachelor</td>\n      <td>2/19/11</td>\n      <td>Employed</td>\n      <td>F</td>\n      <td>48767</td>\n      <td>...</td>\n      <td>38</td>\n      <td>0</td>\n      <td>2</td>\n      <td>Personal Auto</td>\n      <td>Personal L3</td>\n      <td>Offer1</td>\n      <td>Agent</td>\n      <td>566.472247</td>\n      <td>Two-Door Car</td>\n      <td>Medsize</td>\n    </tr>\n    <tr>\n      <th>3</th>\n      <td>WW63253</td>\n      <td>California</td>\n      <td>7645.861827</td>\n      <td>No</td>\n      <td>Basic</td>\n      <td>Bachelor</td>\n      <td>1/20/11</td>\n      <td>Unemployed</td>\n      <td>M</td>\n      <td>0</td>\n      <td>...</td>\n      <td>65</td>\n      <td>0</td>\n      <td>7</td>\n      <td>Corporate Auto</td>\n      <td>Corporate L2</td>\n      <td>Offer1</td>\n      <td>Call Center</td>\n      <td>529.881344</td>\n      <td>SUV</td>\n      <td>Medsize</td>\n    </tr>\n    <tr>\n      <th>4</th>\n      <td>HB64268</td>\n      <td>Washington</td>\n      <td>2813.692575</td>\n      <td>No</td>\n      <td>Basic</td>\n      <td>Bachelor</td>\n      <td>2/3/11</td>\n      <td>Employed</td>\n      <td>M</td>\n      <td>43836</td>\n      <td>...</td>\n      <td>44</td>\n      <td>0</td>\n      <td>1</td>\n      <td>Personal Auto</td>\n      <td>Personal L1</td>\n      <td>Offer1</td>\n      <td>Agent</td>\n      <td>138.130879</td>\n      <td>Four-Door Car</td>\n      <td>Medsize</td>\n    </tr>\n  </tbody>\n</table>\n<p>5 rows × 24 columns</p>\n</div>"
     },
     "execution_count": 2,
     "metadata": {},
     "output_type": "execute_result"
    }
   ],
   "source": [
    "df = pd.read_csv('./data/WA_Fn-UseC_-Marketing-Customer-Value-Analysis.csv')\n",
    "df.head()\n"
   ],
   "metadata": {
    "collapsed": false,
    "ExecuteTime": {
     "end_time": "2023-06-20T13:46:45.172806Z",
     "start_time": "2023-06-20T13:46:45.135340Z"
    }
   }
  },
  {
   "cell_type": "code",
   "execution_count": 3,
   "outputs": [
    {
     "data": {
      "text/plain": "(9134, 24)"
     },
     "execution_count": 3,
     "metadata": {},
     "output_type": "execute_result"
    }
   ],
   "source": [
    "df.shape"
   ],
   "metadata": {
    "collapsed": false,
    "ExecuteTime": {
     "end_time": "2023-06-20T13:47:23.761352Z",
     "start_time": "2023-06-20T13:47:23.757850Z"
    }
   }
  },
  {
   "cell_type": "code",
   "execution_count": 4,
   "outputs": [
    {
     "data": {
      "text/plain": "  Customer       State  Customer Lifetime Value  Response  Coverage Education  \\\n0  BU79786  Washington              2763.519279         0     Basic  Bachelor   \n1  QZ44356     Arizona              6979.535903         0  Extended  Bachelor   \n2  AI49188      Nevada             12887.431650         0   Premium  Bachelor   \n3  WW63253  California              7645.861827         0     Basic  Bachelor   \n4  HB64268  Washington              2813.692575         0     Basic  Bachelor   \n\n  Effective To Date EmploymentStatus Gender  Income  ...  \\\n0           2/24/11         Employed      F   56274  ...   \n1           1/31/11       Unemployed      F       0  ...   \n2           2/19/11         Employed      F   48767  ...   \n3           1/20/11       Unemployed      M       0  ...   \n4            2/3/11         Employed      M   43836  ...   \n\n  Months Since Policy Inception Number of Open Complaints  Number of Policies  \\\n0                             5                         0                   1   \n1                            42                         0                   8   \n2                            38                         0                   2   \n3                            65                         0                   7   \n4                            44                         0                   1   \n\n      Policy Type        Policy  Renew Offer Type  Sales Channel  \\\n0  Corporate Auto  Corporate L3            Offer1          Agent   \n1   Personal Auto   Personal L3            Offer3          Agent   \n2   Personal Auto   Personal L3            Offer1          Agent   \n3  Corporate Auto  Corporate L2            Offer1    Call Center   \n4   Personal Auto   Personal L1            Offer1          Agent   \n\n  Total Claim Amount  Vehicle Class Vehicle Size  \n0         384.811147   Two-Door Car      Medsize  \n1        1131.464935  Four-Door Car      Medsize  \n2         566.472247   Two-Door Car      Medsize  \n3         529.881344            SUV      Medsize  \n4         138.130879  Four-Door Car      Medsize  \n\n[5 rows x 24 columns]",
      "text/html": "<div>\n<style scoped>\n    .dataframe tbody tr th:only-of-type {\n        vertical-align: middle;\n    }\n\n    .dataframe tbody tr th {\n        vertical-align: top;\n    }\n\n    .dataframe thead th {\n        text-align: right;\n    }\n</style>\n<table border=\"1\" class=\"dataframe\">\n  <thead>\n    <tr style=\"text-align: right;\">\n      <th></th>\n      <th>Customer</th>\n      <th>State</th>\n      <th>Customer Lifetime Value</th>\n      <th>Response</th>\n      <th>Coverage</th>\n      <th>Education</th>\n      <th>Effective To Date</th>\n      <th>EmploymentStatus</th>\n      <th>Gender</th>\n      <th>Income</th>\n      <th>...</th>\n      <th>Months Since Policy Inception</th>\n      <th>Number of Open Complaints</th>\n      <th>Number of Policies</th>\n      <th>Policy Type</th>\n      <th>Policy</th>\n      <th>Renew Offer Type</th>\n      <th>Sales Channel</th>\n      <th>Total Claim Amount</th>\n      <th>Vehicle Class</th>\n      <th>Vehicle Size</th>\n    </tr>\n  </thead>\n  <tbody>\n    <tr>\n      <th>0</th>\n      <td>BU79786</td>\n      <td>Washington</td>\n      <td>2763.519279</td>\n      <td>0</td>\n      <td>Basic</td>\n      <td>Bachelor</td>\n      <td>2/24/11</td>\n      <td>Employed</td>\n      <td>F</td>\n      <td>56274</td>\n      <td>...</td>\n      <td>5</td>\n      <td>0</td>\n      <td>1</td>\n      <td>Corporate Auto</td>\n      <td>Corporate L3</td>\n      <td>Offer1</td>\n      <td>Agent</td>\n      <td>384.811147</td>\n      <td>Two-Door Car</td>\n      <td>Medsize</td>\n    </tr>\n    <tr>\n      <th>1</th>\n      <td>QZ44356</td>\n      <td>Arizona</td>\n      <td>6979.535903</td>\n      <td>0</td>\n      <td>Extended</td>\n      <td>Bachelor</td>\n      <td>1/31/11</td>\n      <td>Unemployed</td>\n      <td>F</td>\n      <td>0</td>\n      <td>...</td>\n      <td>42</td>\n      <td>0</td>\n      <td>8</td>\n      <td>Personal Auto</td>\n      <td>Personal L3</td>\n      <td>Offer3</td>\n      <td>Agent</td>\n      <td>1131.464935</td>\n      <td>Four-Door Car</td>\n      <td>Medsize</td>\n    </tr>\n    <tr>\n      <th>2</th>\n      <td>AI49188</td>\n      <td>Nevada</td>\n      <td>12887.431650</td>\n      <td>0</td>\n      <td>Premium</td>\n      <td>Bachelor</td>\n      <td>2/19/11</td>\n      <td>Employed</td>\n      <td>F</td>\n      <td>48767</td>\n      <td>...</td>\n      <td>38</td>\n      <td>0</td>\n      <td>2</td>\n      <td>Personal Auto</td>\n      <td>Personal L3</td>\n      <td>Offer1</td>\n      <td>Agent</td>\n      <td>566.472247</td>\n      <td>Two-Door Car</td>\n      <td>Medsize</td>\n    </tr>\n    <tr>\n      <th>3</th>\n      <td>WW63253</td>\n      <td>California</td>\n      <td>7645.861827</td>\n      <td>0</td>\n      <td>Basic</td>\n      <td>Bachelor</td>\n      <td>1/20/11</td>\n      <td>Unemployed</td>\n      <td>M</td>\n      <td>0</td>\n      <td>...</td>\n      <td>65</td>\n      <td>0</td>\n      <td>7</td>\n      <td>Corporate Auto</td>\n      <td>Corporate L2</td>\n      <td>Offer1</td>\n      <td>Call Center</td>\n      <td>529.881344</td>\n      <td>SUV</td>\n      <td>Medsize</td>\n    </tr>\n    <tr>\n      <th>4</th>\n      <td>HB64268</td>\n      <td>Washington</td>\n      <td>2813.692575</td>\n      <td>0</td>\n      <td>Basic</td>\n      <td>Bachelor</td>\n      <td>2/3/11</td>\n      <td>Employed</td>\n      <td>M</td>\n      <td>43836</td>\n      <td>...</td>\n      <td>44</td>\n      <td>0</td>\n      <td>1</td>\n      <td>Personal Auto</td>\n      <td>Personal L1</td>\n      <td>Offer1</td>\n      <td>Agent</td>\n      <td>138.130879</td>\n      <td>Four-Door Car</td>\n      <td>Medsize</td>\n    </tr>\n  </tbody>\n</table>\n<p>5 rows × 24 columns</p>\n</div>"
     },
     "execution_count": 4,
     "metadata": {},
     "output_type": "execute_result"
    }
   ],
   "source": [
    "df.Response = df.Response.apply(lambda x: 0 if x == 'No' else 1)\n",
    "df.head()"
   ],
   "metadata": {
    "collapsed": false,
    "ExecuteTime": {
     "end_time": "2023-06-20T13:53:30.619926Z",
     "start_time": "2023-06-20T13:53:30.608482Z"
    }
   }
  }
 ],
 "metadata": {
  "kernelspec": {
   "display_name": "Python 3",
   "language": "python",
   "name": "python3"
  },
  "language_info": {
   "codemirror_mode": {
    "name": "ipython",
    "version": 2
   },
   "file_extension": ".py",
   "mimetype": "text/x-python",
   "name": "python",
   "nbconvert_exporter": "python",
   "pygments_lexer": "ipython2",
   "version": "2.7.6"
  }
 },
 "nbformat": 4,
 "nbformat_minor": 0
}
